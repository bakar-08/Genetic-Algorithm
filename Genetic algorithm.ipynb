{
  "cells": [
    {
      "cell_type": "code",
      "execution_count": 6,
      "metadata": {
        "id": "knmbz6hlqte2"
      },
      "outputs": [],
      "source": [
        "import random\n",
        "\n",
        "# feature improvements and their corresponding costs and ratings\n",
        "features = {\n",
        "    \"feature1\": {\"cost\": 100, \"rating\": 3.5},\n",
        "    \"feature2\": {\"cost\": 200, \"rating\": 4.2},\n",
        "    \"feature3\": {\"cost\": 150, \"rating\": 4.0},\n",
        "    \"feature4\": {\"cost\": 300, \"rating\": 3.8},\n",
        "    \"feature5\": {\"cost\": 250, \"rating\": 4.5},\n",
        "    \"feature6\": {\"cost\": 350, \"rating\": 3.6}\n",
        "}\n",
        "\n",
        "# budget for feature improvements\n",
        "budget = 1000"
      ]
    },
    {
      "cell_type": "code",
      "execution_count": 7,
      "metadata": {
        "id": "-VInTVaqq5dd"
      },
      "outputs": [],
      "source": [
        "# evaluation function to calculate the overall rating after a feature improvement\n",
        "def evaluate(state):\n",
        "    total_cost = sum([features[f][\"cost\"] for f in state])\n",
        "    if total_cost > budget:\n",
        "        return 0\n",
        "    total_rating = sum([features[f][\"rating\"] for f in state])\n",
        "    return total_rating"
      ]
    },
    {
      "cell_type": "markdown",
      "metadata": {
        "id": "UwEAU6apr6HF"
      },
      "source": [
        "Now, apply the hill climbing algorithm using the following steps provided"
      ]
    },
    {
      "cell_type": "markdown",
      "metadata": {
        "id": "agkZlDufrT3U"
      },
      "source": [
        "\n",
        "1.   start with a random initial state\n",
        "\n",
        "2.   iterate until a local maximum is reached\n",
        "\n",
        "3. evaluate the neighboring states and select the one that improves the evaluation function the most\n",
        "\n",
        "4. update the current state with the selected neighboring state\n",
        "5. update the best state if the current state is better\n",
        "\n"
      ]
    },
    {
      "cell_type": "code",
      "execution_count": 10,
      "metadata": {
        "id": "gjgxLHGvq8xM"
      },
      "outputs": [],
      "source": [
        "# Hill climbing algorithm to find the best sequence of feature improvements\n",
        "def hill_climbing(max_iter=1000):\n",
        "    # start with a random initial state\n",
        "    #current_state = random.sample(features.keys(), random.randint(1, len(features)))\n",
        "    current_state = random.sample(list(features.keys()), random.randint(1, len(features)))\n",
        "    best_state = current_state\n",
        "    best_score = evaluate(current_state)\n",
        "    \n",
        "    # iterate until a local maximum is reached\n",
        "\n",
        "    # Generate all possible neighboring states\n",
        "    for _ in range(max_iter):\n",
        "        neighbor_states = []\n",
        "        for feature in features.keys():\n",
        "            if feature not in current_state:\n",
        "                neighbor_states.append(current_state + [feature])\n",
        "            elif len(current_state) > 1: \n",
        "                reduced_state = [f for f in current_state if f != feature]\n",
        "                neighbor_states.append(reduced_state)\n",
        "\n",
        "    # Evaluate each neighbor and choose the one with the best score\n",
        "    best_neighbor = None\n",
        "    for neighbor in neighbor_states:\n",
        "      neighbor_score = evaluate(neighbor)\n",
        "      if neighbor_score > best_score and evaluate(neighbor)>0: \n",
        "        best_neighbor = neighbor\n",
        "        best_score = neighbor_score\n",
        "\n",
        "    # Update current state\n",
        "        if best_neighbor is not None:\n",
        "            current_state = best_neighbor\n",
        "        else:\n",
        "            break\n",
        "\n",
        "    return best_state\n",
        "\n"
      ]
    },
    {
      "cell_type": "code",
      "execution_count": 13,
      "metadata": {
        "id": "nCMXe6F1q-dJ"
      },
      "outputs": [
        {
          "name": "stdout",
          "output_type": "stream",
          "text": [
            "Best sequence of feature improvements: ['feature2', 'feature5', 'feature4', 'feature1', 'feature6']\n"
          ]
        }
      ],
      "source": [
        "# run the hill climbing algorithm and print the best sequence of feature improvements\n",
        "best_state = hill_climbing()\n",
        "print(\"Best sequence of feature improvements:\", best_state)"
      ]
    },
    {
      "cell_type": "code",
      "execution_count": null,
      "metadata": {},
      "outputs": [],
      "source": []
    },
    {
      "cell_type": "markdown",
      "metadata": {},
      "source": [
        "new comment"
      ]
    }
  ],
  "metadata": {
    "colab": {
      "provenance": []
    },
    "kernelspec": {
      "display_name": "Python 3",
      "name": "python3"
    },
    "language_info": {
      "codemirror_mode": {
        "name": "ipython",
        "version": 3
      },
      "file_extension": ".py",
      "mimetype": "text/x-python",
      "name": "python",
      "nbconvert_exporter": "python",
      "pygments_lexer": "ipython3",
      "version": "3.11.3"
    }
  },
  "nbformat": 4,
  "nbformat_minor": 0
}
